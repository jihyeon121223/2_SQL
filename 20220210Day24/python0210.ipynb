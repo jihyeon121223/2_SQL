import random

def create_student(name, korea, math, english, science):
    return{
        'name':name,
        'korea':korea,
        'math':math,
        'english':english,
        'science':science
    }


names = '가나다라마바사아자차카타파하'
name=[]
korea=[]
math=[]
english=[]
science=[]
for i in range(10):
    name.append(random.choice(names)+random.choice(names))
    korea.append(random.randrange(80,100))
    math.append(random.randrange(80,100))
    english.append(random.randrange(80,100))
    science.append(random.randrange(80,100))
student=create_student(name,korea,math,english,science)



student

#총점

student['name']
student['english']




#클래스 선언
def add(x,y):
    return x+y

##########
a= list(range(10))
b= list(range(10,20))
print(a[0]+b[0])
print(a[1]+b[1])
print(a[2]+b[2])
...
#############를 줄이자



a= list(range(10))
b= list(range(10,20))
add(a[0],b[0])

for i in range(10):
    print(add(a[i],b[i]))



#속성과 함수(소문자선언)가 같이있다 =클래스(대문자선엄)
class Class:
    pass
new_class=Class()

##사칙연산을 수행하는 클래스
class Calculator:
    def __init__(self,x,y):
        self.x=x
        self.y=y
    def show(self):
        print(self.x)
        print(self.y)
    def add(self,t):
        return self.x+self.y+t
    def sub(self):
        return self.x-self.y
    def mul(self):
        return self.x*self.y
    def by(self):
        return self.x/self.y



a=Calculator(11,2)
a
a.show()
a.add(3)        
a.sub()
a.x
a.y





#4가지 논리를 넣었을 때 값이나오기 :논리구하기


class Logic:
    def __init__(self,x,y):
        self.x=x
        self.y=y
    def land(self):
        return self.x and self.y
    def lor(self):
        return self.x or self.y
    def lnand(self):
        return not(self.x and self.y)
    def lxor(self):
        if self.x + self.y == 1:
            return True
        else:
            return False


a=Logic(True,True)
a.lnand()

b=Logic(True,False)
b.lxor()


dir(a) #내가 만든 함수가 들어가있음
#인스턴스: 트루,펄스 값 줌 
#프라이빗변수 __변수이름
       